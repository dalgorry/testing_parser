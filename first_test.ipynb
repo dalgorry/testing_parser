{
 "cells": [
  {
   "cell_type": "code",
   "execution_count": 1,
   "id": "8dd3a664-57c1-4be6-a50c-ea1db3c84098",
   "metadata": {},
   "outputs": [
    {
     "ename": "ImportError",
     "evalue": "cannot import name 'Drain' from 'logparser' (C:\\Users\\davis\\anaconda3\\lib\\site-packages\\logparser\\__init__.py)",
     "output_type": "error",
     "traceback": [
      "\u001b[1;31m---------------------------------------------------------------------------\u001b[0m",
      "\u001b[1;31mImportError\u001b[0m                               Traceback (most recent call last)",
      "\u001b[1;32m~\\AppData\\Local\\Temp/ipykernel_28032/982698693.py\u001b[0m in \u001b[0;36m<module>\u001b[1;34m\u001b[0m\n\u001b[0;32m      1\u001b[0m \u001b[1;32mimport\u001b[0m \u001b[0mpytest\u001b[0m\u001b[1;33m\u001b[0m\u001b[1;33m\u001b[0m\u001b[0m\n\u001b[1;32m----> 2\u001b[1;33m \u001b[1;32mfrom\u001b[0m \u001b[0mlogparser\u001b[0m \u001b[1;32mimport\u001b[0m \u001b[0mDrain\u001b[0m\u001b[1;33m\u001b[0m\u001b[1;33m\u001b[0m\u001b[0m\n\u001b[0m\u001b[0;32m      3\u001b[0m \u001b[1;33m\u001b[0m\u001b[0m\n\u001b[0;32m      4\u001b[0m \u001b[1;32mdef\u001b[0m \u001b[0mtest_drain\u001b[0m\u001b[1;33m(\u001b[0m\u001b[1;33m)\u001b[0m\u001b[1;33m:\u001b[0m\u001b[1;33m\u001b[0m\u001b[1;33m\u001b[0m\u001b[0m\n\u001b[0;32m      5\u001b[0m     \u001b[1;31m# Initialize Drain parser with parameters\u001b[0m\u001b[1;33m\u001b[0m\u001b[1;33m\u001b[0m\u001b[0m\n",
      "\u001b[1;31mImportError\u001b[0m: cannot import name 'Drain' from 'logparser' (C:\\Users\\davis\\anaconda3\\lib\\site-packages\\logparser\\__init__.py)"
     ]
    }
   ],
   "source": [
    "import pytest\n",
    "from logparser import Drain\n",
    "\n",
    "def test_drain():\n",
    "    # Initialize Drain parser with parameters\n",
    "    parser = Drain.LogParser(\n",
    "        log_format='<Month> <Date> <Time> <Level> <Component>: <Content>',\n",
    "        indir='data/',\n",
    "        outdir='result/',\n",
    "        depth=4,\n",
    "        st=0.5,\n",
    "        rex=[]\n",
    "    )\n",
    "\n",
    "    # Parse the log file\n",
    "    parser.parse('Linux_2k.log')\n",
    "\n",
    "    # Load the parsed result\n",
    "    result = parser.load_data()\n",
    "\n",
    "    # Check the number of events\n",
    "    assert len(result['EventId']) == 2000\n",
    "\n",
    "    # Check the number of templates\n",
    "    assert len(result['EventTemplate'].unique()) == 24\n",
    "\n",
    "    # Check some templates\n",
    "    assert result['EventTemplate'][0] == 'rsyslogd: [origin software=\"rsyslogd\" swVersion=\"<*>\"] (re)start'\n",
    "    assert result['EventTemplate'][100] == 'rsyslogd: [origin software=\"rsyslogd\" swVersion=\"<*>\"] exiting on signal <*>.'\n",
    "    assert result['EventTemplate'][200] == 'kernel: [<*>] [<*>] ? <*>+<*>/<*>'"
   ]
  },
  {
   "cell_type": "code",
   "execution_count": null,
   "id": "fd4bdbad-a507-4570-bd38-7ae218785452",
   "metadata": {},
   "outputs": [],
   "source": []
  },
  {
   "cell_type": "code",
   "execution_count": null,
   "id": "a98e97c4-f40b-454c-8f52-3206fed36cc2",
   "metadata": {},
   "outputs": [],
   "source": []
  }
 ],
 "metadata": {
  "kernelspec": {
   "display_name": "Python 3 (ipykernel)",
   "language": "python",
   "name": "python3"
  },
  "language_info": {
   "codemirror_mode": {
    "name": "ipython",
    "version": 3
   },
   "file_extension": ".py",
   "mimetype": "text/x-python",
   "name": "python",
   "nbconvert_exporter": "python",
   "pygments_lexer": "ipython3",
   "version": "3.9.7"
  }
 },
 "nbformat": 4,
 "nbformat_minor": 5
}
